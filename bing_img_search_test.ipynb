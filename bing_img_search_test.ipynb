{
  "cells": [
    {
      "cell_type": "markdown",
      "metadata": {
        "id": "G9kMNtqz8vxy"
      },
      "source": [
        "## 1. urllib 활용"
      ]
    },
    {
      "cell_type": "code",
      "execution_count": 2,
      "metadata": {
        "id": "YRWcMwablErt"
      },
      "outputs": [],
      "source": [
        "import requests as r\n",
        "import urllib.request as ur\n",
        "import os\n",
        "import pandas as pd\n",
        "import time\n",
        "import json"
      ]
    },
    {
      "cell_type": "code",
      "execution_count": 3,
      "metadata": {
        "id": "Gtb05lJ-lKy0"
      },
      "outputs": [],
      "source": [
        "# 해당 디렉토리가 없으면 만드는 함수\n",
        "def createFolder(dir_name):\n",
        "    try:\n",
        "        if not os.path.exists(dir_name):\n",
        "            os.makedirs(dir_name)\n",
        "    except OSError:\n",
        "        print ('Error: Creating directory. ' +  dir_name)"
      ]
    },
    {
      "cell_type": "code",
      "execution_count": 4,
      "metadata": {
        "id": "CPP5ppjQ5sf1"
      },
      "outputs": [],
      "source": [
        "key1 = \"\" # Your bing API key"
      ]
    },
    {
      "cell_type": "code",
      "execution_count": 12,
      "metadata": {},
      "outputs": [],
      "source": [
        "os.chdir(\"../..\")"
      ]
    },
    {
      "cell_type": "markdown",
      "metadata": {},
      "source": [
        "### 1. function to make image-files for one keyword"
      ]
    },
    {
      "cell_type": "code",
      "execution_count": 21,
      "metadata": {},
      "outputs": [],
      "source": [
        "def make_imgs(item, apikey):\n",
        "    # save start time to measure performance time\n",
        "    start = time.time()\n",
        "    # make a list to save error log\n",
        "    error_log = []\n",
        "    \n",
        "    # set the directory\n",
        "    os.chdir(\"./bing_img\") # your designated directory\n",
        "    createFolder(item)\n",
        "    os.chdir(f\"./{item}\")\n",
        "    \n",
        "    url = \"https://api.bing.microsoft.com/v7.0/images/search\"\n",
        "    headers = {\n",
        "              \"Ocp-Apim-Subscription-Key\" : key1\n",
        "              }\n",
        "    \n",
        "    # you can manage many query parameters. check out the documentation\n",
        "    # https://docs.microsoft.com/en-us/bing/search-apis/bing-image-search/reference/query-parameters\n",
        "    \n",
        "    param = {\"q\" : item,\n",
        "          \"count\" : 10, #choose num of results from 1 to 150\n",
        "          \"imageType\" : \"Photo\",\n",
        "          \"imageContent\" : \"Face\",\n",
        "          \"minHeight\" : 256, # set minimum height(pixels)\n",
        "          \"safeSearch\" : \"strict\", # filter adult contents\n",
        "          \"color\" : \"ColorOnly\"\n",
        "          }\n",
        "    s = r.Session()\n",
        "    test = s.get(url,headers=headers, params=param).json()\n",
        "    \n",
        "    # download images and labels using link result\n",
        "    for i in range(0,len(test.get(\"value\"))):\n",
        "          file_name = item+\"_\"+str(i)\n",
        "          print(file_name)\n",
        "          #print(test.get('value')[i].get('contentUrl'))\n",
        "          json_file_name = f\"{file_name}.json\"\n",
        "          file_path = os.getcwd()+'/'+json_file_name\n",
        "          img_file_name = f\"{file_name}.{test.get('value')[i].get('encodingFormat')}\"\n",
        "          print(img_file_name)\n",
        "          try:\n",
        "                ur.urlretrieve(test.get('value')[i].get('contentUrl'),img_file_name)\n",
        "                data = {}\n",
        "                data[file_name] = []\n",
        "                data[file_name].append({\n",
        "                      \"contentUrl\" : test.get('value')[i].get('contentUrl'),\n",
        "                      \"datePublished\" : test.get('value')[i].get('datePublished'),\n",
        "                      \"encodingFormat\" : test.get('value')[i].get('encodingFormat'),\n",
        "                      \"height\" : test.get('value')[i].get('height'),\n",
        "                      \"hostPageUrl\" : test.get('value')[i].get('hostPageUrl'),\n",
        "                      \"imageId\" : test.get('value')[i].get('imageId'),\n",
        "                      \"width\" : test.get('value')[i].get('width')\n",
        "                })\n",
        "                with open(file_path,'w') as outfile:\n",
        "                      json.dump(data,outfile)\n",
        "          except Exception as e:\n",
        "                print(e)\n",
        "                error_log.append(f\"{img_file_name}: {e}\")\n",
        "\n",
        "        \n",
        "    # get back to the original path\n",
        "    os.chdir(\"../..\")\n",
        "    time_taken = time.time()-start\n",
        "    return time_taken, error_log"
      ]
    },
    {
      "cell_type": "code",
      "execution_count": 22,
      "metadata": {},
      "outputs": [
        {
          "name": "stdout",
          "output_type": "stream",
          "text": [
            "Jimmy Fallon_0\n",
            "Jimmy Fallon_0.jpeg\n",
            "HTTP Error 403: Forbidden\n",
            "Jimmy Fallon_1\n",
            "Jimmy Fallon_1.jpeg\n",
            "Jimmy Fallon_2\n",
            "Jimmy Fallon_2.jpeg\n",
            "Jimmy Fallon_3\n",
            "Jimmy Fallon_3.jpeg\n",
            "Jimmy Fallon_4\n",
            "Jimmy Fallon_4.jpeg\n",
            "Jimmy Fallon_5\n",
            "Jimmy Fallon_5.jpeg\n",
            "Jimmy Fallon_6\n",
            "Jimmy Fallon_6.jpeg\n",
            "HTTP Error 403: Forbidden\n",
            "Jimmy Fallon_7\n",
            "Jimmy Fallon_7.jpeg\n",
            "Jimmy Fallon_8\n",
            "Jimmy Fallon_8.jpeg\n",
            "HTTP Error 403: Forbidden\n",
            "Jimmy Fallon_9\n",
            "Jimmy Fallon_9.jpeg\n"
          ]
        },
        {
          "data": {
            "text/plain": [
              "(3.1132652759552,\n",
              " ['Jimmy Fallon_0.jpeg: HTTP Error 403: Forbidden',\n",
              "  'Jimmy Fallon_6.jpeg: HTTP Error 403: Forbidden',\n",
              "  'Jimmy Fallon_8.jpeg: HTTP Error 403: Forbidden'])"
            ]
          },
          "execution_count": 22,
          "metadata": {},
          "output_type": "execute_result"
        }
      ],
      "source": [
        "make_imgs(\"Jimmy Fallon\", key1)"
      ]
    },
    {
      "cell_type": "markdown",
      "metadata": {},
      "source": [
        "### 2. function to make image-file lists for several keywords"
      ]
    },
    {
      "cell_type": "code",
      "execution_count": 6,
      "metadata": {
        "colab": {
          "base_uri": "https://localhost:8080/"
        },
        "id": "VftMTBPPlh5Y",
        "outputId": "46af9a21-652d-4f3f-b58a-d1baa26eea36"
      },
      "outputs": [],
      "source": [
        "# 쿼리를 요청할 검색어 리스트 만들거나 불러오기\n",
        "name_list = ['Barak Obama','Donald Trump' ,'Joe Biden']"
      ]
    },
    {
      "cell_type": "code",
      "execution_count": 10,
      "metadata": {
        "id": "Wvv3_-ib8ZQo"
      },
      "outputs": [],
      "source": [
        "def make_img_list(lst, apikey):\n",
        "  # 시작 시간 저장\n",
        "  start = time.time()\n",
        "  # 에러 로그 저장을 위한 리스트 만들기\n",
        "  error_log = []\n",
        "  # 주어진 리스트에 있는 모든 이름 검색\n",
        "  for item in lst:\n",
        "\n",
        "    # 폴더 만들고 경로 이동하기\n",
        "    os.chdir(\"./bing_img\") # your designated directory\n",
        "    createFolder(item)\n",
        "    os.chdir(f\"./{item}\")\n",
        "\n",
        "    url = \"https://api.bing.microsoft.com/v7.0/images/search\"\n",
        "    headers = {\n",
        "              \"Ocp-Apim-Subscription-Key\" : key1\n",
        "              }\n",
        "    param = {\"q\" : item,\n",
        "          \"count\" : 10,\n",
        "          \"imageType\" : \"Photo\",\n",
        "          \"imageContent\" : \"Face\",\n",
        "          \"minHeight\" : 256,\n",
        "          \"safeSearch\" : \"strict\",\n",
        "          \"color\" : \"ColorOnly\"\n",
        "          }\n",
        "    s = r.Session()\n",
        "    test = s.get(url,headers=headers, params=param).json()\n",
        "    # 검색결과 링크에서 이미지 저장하기\n",
        "\n",
        "    for i in range(0,len(test.get(\"value\"))):\n",
        "        print(item,'-',i)\n",
        "        print(test.get('value')[i].get('contentUrl'))\n",
        "        file_name = f\"{item}_{i}.{test.get('value')[i].get('encodingFormat')}\"\n",
        "        try:\n",
        "          ur.urlretrieve(test.get('value')[i].get('contentUrl'),file_name)\n",
        "        except Exception as e: \n",
        "          print(e)\n",
        "          error_log.append(f\"{file_name}: {e}\")\n",
        "\n",
        "          pass\n",
        "    os.chdir(\"../..\")\n",
        "  time_taken = time.time()-start\n",
        "  return time_taken, error_log"
      ]
    },
    {
      "cell_type": "code",
      "execution_count": 11,
      "metadata": {
        "colab": {
          "base_uri": "https://localhost:8080/"
        },
        "id": "2AxHwiqj8yj5",
        "outputId": "e8238267-fd96-4252-d55a-5238b85208b1"
      },
      "outputs": [
        {
          "name": "stdout",
          "output_type": "stream",
          "text": [
            "Barak Obama - 0\n",
            "https://issuepedia.org/wikiup/thumb/f/f8/Officialportrait.jpg/1200px-Officialportrait.jpg\n",
            "Barak Obama - 1\n",
            "https://images-na.ssl-images-amazon.com/images/I/B1iW0a3boMS.jpg\n",
            "Barak Obama - 2\n",
            "https://i0.web.de/image/374/33558374,pd=1/barack-obama.jpg\n",
            "Barak Obama - 3\n",
            "http://fotomods.ru/upload/img1349524929.jpg\n",
            "HTTP Error 403: Forbidden\n",
            "Barak Obama - 4\n",
            "http://whatwillmatter.com/wp-content/uploads/2012/10/Barak-Obama.jpg\n",
            "Barak Obama - 5\n",
            "https://www.espreso.co.rs/data/images/2020/07/17/18/790599_barak-obama_ls.jpg\n",
            "Barak Obama - 6\n",
            "https://media.vanityfair.com/photos/5eb6e24a77a607fc7f7f1572/master/w_2560%2Cc_limit/Barack-Obama.jpg\n",
            "Barak Obama - 7\n",
            "http://abovethelaw.com/wp-content/uploads/2015/04/barack-obama.jpg\n",
            "HTTP Error 403: Forbidden\n",
            "Barak Obama - 8\n",
            "https://i0.wp.com/breakingwide.com/wp-content/uploads/2019/11/PhotoGrid_1574718654326.jpg?fit=1820%2C1024&ssl=1\n",
            "Barak Obama - 9\n",
            "https://www.famousbirthsdeaths.com/wp-content/uploads/2015/12/is-barack-obama-dead-or-alive.jpg\n",
            "HTTP Error 403: Forbidden\n",
            "Donald Trump - 0\n",
            "http://presencianoticias.com/wp-content/uploads/2018/05/trump-fail-004.jpg\n",
            "HTTP Error 403: Forbidden\n",
            "Donald Trump - 1\n",
            "https://celebrityinsider.org/wp-content/uploads/2020/05/d-trump.jpg\n",
            "HTTP Error 403: Forbidden\n",
            "Donald Trump - 2\n",
            "https://bilder.t-online.de/b/88/58/12/10/id_88581210/tid_da/donald-trump-der-us-praesident-ueberrascht-haeufig-mit-wissenschaftlich-nicht-belegten-ueberzeugungen-.jpg\n",
            "Donald Trump - 3\n",
            "http://www.infoescola.com/wp-content/uploads/2016/05/donald-trump_308374256.jpg\n",
            "HTTP Error 403: Forbidden\n",
            "Donald Trump - 4\n",
            "https://movieplayer.net-cdn.it/images/2020/10/21/unfit-donald-trump.jpg\n",
            "Donald Trump - 5\n",
            "https://assets.debate.com.mx/__export/1605665553099/sites/debate/img/2020/11/17/donald_trump_despide_a_funcionario_federal_por_no_apoyarlo_crop1605665292869.jpeg_242310155.jpeg\n",
            "Donald Trump - 6\n",
            "http://www.middleeasteye.net/sites/default/files/images-story/000_1qk858_0.jpg\n",
            "HTTP Error 403: Forbidden\n",
            "Donald Trump - 7\n",
            "https://wallsdesk.com/wp-content/uploads/2017/01/Donald-Trump-Wallpapers.jpg\n",
            "Donald Trump - 8\n",
            "http://d.ibtimes.co.uk/en/full/1460353/donald-trump-pope.jpg\n",
            "Donald Trump - 9\n",
            "http://cdn.gospelherald.com/data/images/full/13777/donald-trump.jpg\n",
            "HTTP Error 403: Forbidden\n",
            "Joe Biden - 0\n",
            "https://dehayf5mhw1h7.cloudfront.net/wp-content/uploads/sites/1317/2020/08/04142449/GettyImages-1227830570.jpg\n",
            "Joe Biden - 1\n",
            "https://veja.abril.com.br/wp-content/uploads/2019/09/biden-eua-getty.jpg\n",
            "Joe Biden - 2\n",
            "https://newjerseyglobe.com/wp-content/uploads/2018/03/Joe-Biden-e1521136567698.jpg\n",
            "HTTP Error 403: Forbidden\n",
            "Joe Biden - 3\n",
            "https://i1.wp.com/nypost.com/wp-content/uploads/sites/2/2020/06/joe-biden-basement.jpg?quality=90&strip=all&ssl=1\n",
            "Joe Biden - 4\n",
            "https://thingstoknow.com.ng/wp-content/uploads/2021/01/Joe-Biden-4-1024x682.jpg\n",
            "Joe Biden - 5\n",
            "https://upload.wikimedia.org/wikipedia/commons/0/0d/Joe_Biden,_official_photo_portrait_2-cropped.jpg\n",
            "Joe Biden - 6\n",
            "https://americarisingpac.org/wp-content/uploads/2019/06/Biden03-GettyImages-1149412192-e1560361192371.jpg\n",
            "Joe Biden - 7\n",
            "https://www.the-sun.com/wp-content/uploads/sites/6/2020/08/NINTCHDBPICT000603010843.jpg\n",
            "Joe Biden - 8\n",
            "https://cdn.revistafama.com/uploads/media/2020/11/04/naomi-quien-es-la-nieta.jpg\n",
            "Joe Biden - 9\n",
            "https://www.welt.de/img/politik/ausland/mobile101939930/0522505267-ci102l-w1024/biden-DW-Vermischtes-Washington-jpg.jpg\n"
          ]
        },
        {
          "data": {
            "text/plain": [
              "(60.05609703063965,\n",
              " ['Barak Obama_3.jpeg: HTTP Error 403: Forbidden',\n",
              "  'Barak Obama_7.jpeg: HTTP Error 403: Forbidden',\n",
              "  'Barak Obama_9.jpeg: HTTP Error 403: Forbidden',\n",
              "  'Donald Trump_0.jpeg: HTTP Error 403: Forbidden',\n",
              "  'Donald Trump_1.jpeg: HTTP Error 403: Forbidden',\n",
              "  'Donald Trump_3.jpeg: HTTP Error 403: Forbidden',\n",
              "  'Donald Trump_6.jpeg: HTTP Error 403: Forbidden',\n",
              "  'Donald Trump_9.jpeg: HTTP Error 403: Forbidden',\n",
              "  'Joe Biden_2.jpeg: HTTP Error 403: Forbidden'])"
            ]
          },
          "execution_count": 11,
          "metadata": {},
          "output_type": "execute_result"
        }
      ],
      "source": [
        "make_img_list(name_list, key1)"
      ]
    },
    {
      "cell_type": "code",
      "execution_count": null,
      "metadata": {},
      "outputs": [],
      "source": []
    }
  ],
  "metadata": {
    "colab": {
      "collapsed_sections": [],
      "name": "bing_img_search_test.ipynb",
      "provenance": []
    },
    "kernelspec": {
      "display_name": "Python 3",
      "name": "python3"
    },
    "language_info": {
      "codemirror_mode": {
        "name": "ipython",
        "version": 3
      },
      "file_extension": ".py",
      "mimetype": "text/x-python",
      "name": "python",
      "nbconvert_exporter": "python",
      "pygments_lexer": "ipython3",
      "version": "3.8.5"
    }
  },
  "nbformat": 4,
  "nbformat_minor": 0
}
