{
  "cells": [
    {
      "cell_type": "markdown",
      "metadata": {
        "id": "G9kMNtqz8vxy"
      },
      "source": [
        "## 1. urllib 활용"
      ]
    },
    {
      "cell_type": "code",
      "execution_count": 1,
      "metadata": {
        "id": "YRWcMwablErt"
      },
      "outputs": [],
      "source": [
        "import requests as r\n",
        "import urllib.request as ur\n",
        "import os\n",
        "import pandas as pd\n",
        "import time"
      ]
    },
    {
      "cell_type": "code",
      "execution_count": 2,
      "metadata": {
        "id": "Gtb05lJ-lKy0"
      },
      "outputs": [],
      "source": [
        "# 해당 디렉토리가 없으면 만드는 함수\n",
        "def createFolder(dir_name):\n",
        "    try:\n",
        "        if not os.path.exists(dir_name):\n",
        "            os.makedirs(dir_name)\n",
        "    except OSError:\n",
        "        print ('Error: Creating directory. ' +  dir_name)"
      ]
    },
    {
      "cell_type": "code",
      "execution_count": 3,
      "metadata": {
        "colab": {
          "base_uri": "https://localhost:8080/"
        },
        "id": "VftMTBPPlh5Y",
        "outputId": "46af9a21-652d-4f3f-b58a-d1baa26eea36"
      },
      "outputs": [],
      "source": [
        "# 쿼리를 요청할 검색어 리스트 만들거나 불러오기\n",
        "name_list = ['Barak Obama','Donald Trump' ,'Joe Biden']"
      ]
    },
    {
      "cell_type": "code",
      "execution_count": 4,
      "metadata": {
        "id": "CPP5ppjQ5sf1"
      },
      "outputs": [],
      "source": [
        "key1 = \"\" # Your bing API key"
      ]
    },
    {
      "cell_type": "code",
      "execution_count": 22,
      "metadata": {
        "id": "Wvv3_-ib8ZQo"
      },
      "outputs": [],
      "source": [
        "def make_img_list(lst, apikey):\n",
        "  # 시작 시간 저장\n",
        "  start = time.time()\n",
        "  # 에러 로그 저장을 위한 리스트 만들기\n",
        "  error_log = []\n",
        "  # 주어진 리스트에 있는 모든 이름 검색\n",
        "  for item in lst:\n",
        "\n",
        "    # 폴더 만들고 경로 이동하기\n",
        "    os.chdir(\"./bing_img\") # your designated directory\n",
        "    createFolder(item)\n",
        "    os.chdir(f\"./{item}\")\n",
        "\n",
        "    url = \"https://api.bing.microsoft.com/v7.0/images/search\"\n",
        "    headers = {\n",
        "              \"Ocp-Apim-Subscription-Key\" : key1\n",
        "              }\n",
        "    param = {\"q\" : item,\n",
        "          \"count\" : 10,\n",
        "          \"imageType\" : \"Photo\",\n",
        "          \"imageContent\" : \"Face\",\n",
        "          \"minHeight\" : 256,\n",
        "          \"safeSearch\" : \"strict\",\n",
        "          \"color\" : \"ColorOnly\"\n",
        "          }\n",
        "    s = r.Session()\n",
        "    test = s.get(url,headers=headers, params=param).json()\n",
        "    # 검색결과 링크에서 이미지 저장하기\n",
        "\n",
        "    for i in range(0,len(test.get(\"value\"))):\n",
        "        print(item,'-',i)\n",
        "        print(test.get('value')[i].get('contentUrl'))\n",
        "        file_name = f\"{item}_{i}.{test.get('value')[i].get('encodingFormat')}\"\n",
        "        try:\n",
        "          ur.urlretrieve(test.get('value')[i].get('contentUrl'),file_name)\n",
        "        except Exception as e: \n",
        "          print(e)\n",
        "          error_log.append(f\"{file_name}: {e}\")\n",
        "\n",
        "          pass\n",
        "    os.chdir(\"../..\")\n",
        "  time_taken = time.time()-start\n",
        "  return time_taken, error_log"
      ]
    },
    {
      "cell_type": "code",
      "execution_count": 23,
      "metadata": {
        "colab": {
          "base_uri": "https://localhost:8080/"
        },
        "id": "2AxHwiqj8yj5",
        "outputId": "e8238267-fd96-4252-d55a-5238b85208b1"
      },
      "outputs": [
        {
          "name": "stdout",
          "output_type": "stream",
          "text": [
            "Barak Obama - 0\n",
            "https://media.vanityfair.com/photos/5eb6e24a77a607fc7f7f1572/master/w_2560%2Cc_limit/Barack-Obama.jpg\n",
            "Barak Obama - 1\n",
            "https://issuepedia.org/wikiup/thumb/f/f8/Officialportrait.jpg/1200px-Officialportrait.jpg\n",
            "Barak Obama - 2\n",
            "https://images-na.ssl-images-amazon.com/images/I/B1iW0a3boMS.jpg\n",
            "Barak Obama - 3\n",
            "https://www.famousbirthsdeaths.com/wp-content/uploads/2015/12/is-barack-obama-dead-or-alive.jpg\n",
            "HTTP Error 403: Forbidden\n",
            "Barak Obama - 4\n",
            "https://www.nbforum.com/wp-content/uploads/obama-600x587.jpg\n",
            "Barak Obama - 5\n",
            "https://www.espreso.co.rs/data/images/2020/07/17/18/790599_barak-obama_ls.jpg\n",
            "Barak Obama - 6\n",
            "http://abovethelaw.com/wp-content/uploads/2015/04/barack-obama.jpg\n",
            "HTTP Error 403: Forbidden\n",
            "Barak Obama - 7\n",
            "https://actorsareidiots.com/wp-content/uploads/2020/06/BarackObama.jpg\n",
            "HTTP Error 403: Forbidden\n",
            "Barak Obama - 8\n",
            "http://tmillan1.files.wordpress.com/2012/03/obamaheadshot.jpg\n",
            "Barak Obama - 9\n",
            "https://images.newrepublic.com/8822072d3da7d7042a4e50a59273438c03842bac.jpeg?w=1000&q=65&dpi=1&fm=pjpg&fit=crop&crop=faces&h=667\n",
            "HTTP Error 403: Forbidden\n",
            "Donald Trump - 0\n",
            "http://presencianoticias.com/wp-content/uploads/2018/05/trump-fail-004.jpg\n",
            "HTTP Error 403: Forbidden\n",
            "Donald Trump - 1\n",
            "https://celebrityinsider.org/wp-content/uploads/2020/05/d-trump.jpg\n",
            "HTTP Error 403: Forbidden\n",
            "Donald Trump - 2\n",
            "https://bilder.t-online.de/b/88/58/12/10/id_88581210/tid_da/donald-trump-der-us-praesident-ueberrascht-haeufig-mit-wissenschaftlich-nicht-belegten-ueberzeugungen-.jpg\n",
            "Donald Trump - 3\n",
            "http://www.infoescola.com/wp-content/uploads/2016/05/donald-trump_308374256.jpg\n",
            "HTTP Error 403: Forbidden\n",
            "Donald Trump - 4\n",
            "https://movieplayer.net-cdn.it/images/2020/10/21/unfit-donald-trump.jpg\n",
            "Donald Trump - 5\n",
            "https://assets.debate.com.mx/__export/1605665553099/sites/debate/img/2020/11/17/donald_trump_despide_a_funcionario_federal_por_no_apoyarlo_crop1605665292869.jpeg_242310155.jpeg\n",
            "Donald Trump - 6\n",
            "http://www.middleeasteye.net/sites/default/files/images-story/000_1qk858_0.jpg\n",
            "HTTP Error 403: Forbidden\n",
            "Donald Trump - 7\n",
            "https://wallsdesk.com/wp-content/uploads/2017/01/Donald-Trump-Wallpapers.jpg\n",
            "Donald Trump - 8\n",
            "http://d.ibtimes.co.uk/en/full/1460353/donald-trump-pope.jpg\n",
            "Donald Trump - 9\n",
            "http://cdn.gospelherald.com/data/images/full/13777/donald-trump.jpg\n",
            "HTTP Error 403: Forbidden\n",
            "Joe Biden - 0\n",
            "https://arc-anglerfish-arc2-prod-bostonglobe.s3.amazonaws.com/public/FNYETSMRXNDK3IN6E2LVAHJAOQ.JPG\n",
            "Joe Biden - 1\n",
            "http://tu18jax.com/wp-content/uploads/2020/11/Joe_Biden-scaled.jpg\n",
            "Joe Biden - 2\n",
            "https://veja.abril.com.br/wp-content/uploads/2019/09/biden-eua-getty.jpg\n",
            "Joe Biden - 3\n",
            "https://thingstoknow.com.ng/wp-content/uploads/2021/01/Joe-Biden-4-1024x682.jpg\n",
            "Joe Biden - 4\n",
            "https://www.welt.de/img/debatte/kommentare/mobile208189875/3552506897-ci102l-w1024/Biden-gewinnt-US-Vorwahl-in-Oregon-laut-vorlaeufigen-Zahlen.jpg\n",
            "Joe Biden - 5\n",
            "https://cdn.handelszeitung.ch/sites/default/files/styles/16x9_560/public/2020-11/us_wahlen_2020_joe_biden.jpg\n",
            "Joe Biden - 6\n",
            "https://d.newsweek.com/en/full/1710437/us-president-elect-joe-biden.jpg\n",
            "Joe Biden - 7\n",
            "https://vignette.wikia.nocookie.net/respublicagame/images/3/35/C4eaef499f8b6cd0c20ef3c0bd94e27ce0-17-joe-biden.rsquare.w700.jpg/revision/latest?cb=20201004233736\n",
            "Joe Biden - 8\n",
            "https://www.libertynation.com/wp-content/uploads/2020/05/Joe-Biden-1024x1024.jpg\n",
            "HTTP Error 403: Forbidden\n",
            "Joe Biden - 9\n",
            "https://www.africanstar.org/wp-content/uploads/2021/01/U.S.-President-Joe-Biden.jpg\n",
            "HTTP Error 406: Not Acceptable\n"
          ]
        },
        {
          "data": {
            "text/plain": [
              "(28.09617280960083,\n",
              " ['Barak Obama_3.jpeg: HTTP Error 403: Forbidden',\n",
              "  'Barak Obama_6.jpeg: HTTP Error 403: Forbidden',\n",
              "  'Barak Obama_7.jpeg: HTTP Error 403: Forbidden',\n",
              "  'Barak Obama_9.jpeg: HTTP Error 403: Forbidden',\n",
              "  'Donald Trump_0.jpeg: HTTP Error 403: Forbidden',\n",
              "  'Donald Trump_1.jpeg: HTTP Error 403: Forbidden',\n",
              "  'Donald Trump_3.jpeg: HTTP Error 403: Forbidden',\n",
              "  'Donald Trump_6.jpeg: HTTP Error 403: Forbidden',\n",
              "  'Donald Trump_9.jpeg: HTTP Error 403: Forbidden',\n",
              "  'Joe Biden_8.jpeg: HTTP Error 403: Forbidden',\n",
              "  'Joe Biden_9.jpeg: HTTP Error 406: Not Acceptable'])"
            ]
          },
          "execution_count": 23,
          "metadata": {},
          "output_type": "execute_result"
        }
      ],
      "source": [
        "make_img_list(name_list, key1)"
      ]
    },
    {
      "cell_type": "code",
      "execution_count": null,
      "metadata": {},
      "outputs": [],
      "source": []
    }
  ],
  "metadata": {
    "colab": {
      "collapsed_sections": [],
      "name": "bing_img_search_test.ipynb",
      "provenance": []
    },
    "kernelspec": {
      "display_name": "Python 3",
      "name": "python3"
    },
    "language_info": {
      "codemirror_mode": {
        "name": "ipython",
        "version": 3
      },
      "file_extension": ".py",
      "mimetype": "text/x-python",
      "name": "python",
      "nbconvert_exporter": "python",
      "pygments_lexer": "ipython3",
      "version": "3.8.5"
    }
  },
  "nbformat": 4,
  "nbformat_minor": 0
}
