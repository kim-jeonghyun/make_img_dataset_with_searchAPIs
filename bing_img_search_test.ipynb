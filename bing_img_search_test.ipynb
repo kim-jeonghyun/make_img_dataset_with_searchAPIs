{
  "cells": [
    {
      "cell_type": "markdown",
      "metadata": {
        "id": "G9kMNtqz8vxy"
      },
      "source": [
        "## 1. requests"
      ]
    },
    {
      "cell_type": "code",
      "execution_count": 53,
      "metadata": {
        "id": "YRWcMwablErt"
      },
      "outputs": [],
      "source": [
        "import requests as r\n",
        "import os\n",
        "import pandas as pd\n",
        "import time\n",
        "import json\n"
      ]
    },
    {
      "cell_type": "code",
      "execution_count": 51,
      "metadata": {
        "id": "Gtb05lJ-lKy0"
      },
      "outputs": [],
      "source": [
        "# create a directory it it doesn't exist\n",
        "def createFolder(dir_name):\n",
        "    try:\n",
        "        if not os.path.exists(dir_name):\n",
        "            os.makedirs(dir_name)\n",
        "    except OSError:\n",
        "        print ('Error: Creating directory. ' +  dir_name)"
      ]
    },
    {
      "cell_type": "code",
      "execution_count": 36,
      "metadata": {
        "id": "CPP5ppjQ5sf1"
      },
      "outputs": [],
      "source": [
        "key1 = \"\" # Your bing API key"
      ]
    },
    {
      "cell_type": "code",
      "execution_count": 37,
      "metadata": {},
      "outputs": [],
      "source": [
        "#set your path\n",
        "base_path = \"\" # Your base_path\n",
        "os.chdir(base_path)"
      ]
    },
    {
      "cell_type": "markdown",
      "metadata": {},
      "source": [
        "### 1. function to make image-files for one keyword"
      ]
    },
    {
      "cell_type": "code",
      "execution_count": 75,
      "metadata": {},
      "outputs": [],
      "source": [
        "def make_imgs(item, num, apikey):\n",
        "    # save start time to measure performance time\n",
        "    start = time.time()\n",
        "    # make a list to save error log\n",
        "    error_log = []\n",
        "    \n",
        "    # set the directory\n",
        "    os.chdir(\"./bing_img\") # your designated directory\n",
        "    createFolder(item)\n",
        "    os.chdir(f\"./{item}\")\n",
        "    \n",
        "    url = \"https://api.bing.microsoft.com/v7.0/images/search\"\n",
        "    headers = {\n",
        "              \"Ocp-Apim-Subscription-Key\" : key1\n",
        "              }\n",
        "    \n",
        "    # you can manage many query parameters. check out the documentation\n",
        "    # https://docs.microsoft.com/en-us/bing/search-apis/bing-image-search/reference/query-parameters\n",
        "    \n",
        "    param = {\"q\" : item,\n",
        "          \"count\" : num, #choose num of results from 1 to 150\n",
        "          \"imageType\" : \"Photo\",\n",
        "          \"imageContent\" : \"Face\",\n",
        "          \"minHeight\" : 256, # set minimum height(pixels)\n",
        "          \"safeSearch\" : \"strict\", # filter adult contents\n",
        "          \"color\" : \"ColorOnly\"\n",
        "          }\n",
        "    s = r.Session()\n",
        "    test = s.get(url,headers=headers, params=param).json()\n",
        "    \n",
        "    # download images and labels using link result\n",
        "    for i in range(0,len(test.get(\"value\"))):\n",
        "          file_name = item+\"_\"+str(i)\n",
        "          print(file_name)\n",
        "          print(test.get('value')[i].get('contentUrl'))\n",
        "          json_file_name = f\"{file_name}.json\"\n",
        "          file_path = os.getcwd()+'/'+json_file_name\n",
        "          img_file_name = f\"{file_name}.{test.get('value')[i].get('encodingFormat')}\"\n",
        "          #print(img_file_name)\n",
        "          #set headers to avoid 403 forbidden error\n",
        "          headers = {'User-Agent' : 'Mozilla/5.0 (Windows NT 10.0; Win64; x64) AppleWebKit/537.36 (KHTML, like Gecko)Chrome/91.0.4472.77 Safari/537.36'}\n",
        "            \n",
        "          img_r = r.get(test.get('value')[i].get('contentUrl'), headers=headers, timeout=10, stream=True)\n",
        "          with open (img_file_name,'wb') as f:\n",
        "            try:\n",
        "                  f.write(img_r.content)\n",
        "                  \n",
        "            except Exception as e:\n",
        "                  print(e)\n",
        "                  error_log.append(f\"{img_file_name}: {e} \")   \n",
        "                  pass       \n",
        "      \n",
        "            data = {}\n",
        "            data[file_name] = []\n",
        "            data[file_name].append({\n",
        "                  \"contentUrl\" : test.get('value')[i].get('contentUrl'),\n",
        "                  \"datePublished\" : test.get('value')[i].get('datePublished'),\n",
        "                  \"encodingFormat\" : test.get('value')[i].get('encodingFormat'),\n",
        "                  \"height\" : test.get('value')[i].get('height'),\n",
        "                  \"hostPageUrl\" : test.get('value')[i].get('hostPageUrl'),\n",
        "                  \"imageId\" : test.get('value')[i].get('imageId'),\n",
        "                  \"width\" : test.get('value')[i].get('width')\n",
        "            })\n",
        "            with open(file_path,'w') as outfile:\n",
        "                  json.dump(data,outfile)\n",
        "\n",
        "\n",
        "        \n",
        "    # get back to the original path\n",
        "    os.chdir(\"../..\")\n",
        "    time_taken = time.time()-start\n",
        "    return time_taken, error_log"
      ]
    },
    {
      "cell_type": "code",
      "execution_count": 76,
      "metadata": {},
      "outputs": [
        {
          "name": "stdout",
          "output_type": "stream",
          "text": [
            "Kamala Harris_0\n",
            "https://it.insideover.com/wp-content/uploads/2019/12/LP_10733056-e1575976287635.jpg\n",
            "Kamala Harris_1\n",
            "https://static.timesofisrael.com/blogs/uploads/2020/11/Kamala_Harris_April_2019.jpg\n",
            "Kamala Harris_2\n",
            "https://www.biography.com/.image/ar_1:1%2Cc_fill%2Ccs_srgb%2Cfl_progressive%2Cq_auto:good%2Cw_1200/MTc0NjMzMzkyODAzOTQ4NDg5/kamala-harris_500x500_gettyimages-1158742275.jpg\n",
            "Kamala Harris_3\n",
            "https://www.kerknet.be/sites/default/files/styles/width_640/public/harris.jpg?itok=XWgiTtBX\n",
            "Kamala Harris_4\n",
            "https://conservativemodern.com/wp-content/uploads/2020/11/kamala-harris-38.jpg\n",
            "Kamala Harris_5\n",
            "https://2.bp.blogspot.com/-9ulH01DNg_c/W5cQq8TTJbI/AAAAAAABQcs/8P_lHca3YZQ8QQaVVI4V_oYdUqYHXUs2QCLcBGAs/s1600/Kamala-Harris2.jpg\n",
            "Kamala Harris_6\n",
            "http://www1.pictures.zimbio.com/gi/Sen+Kamala+Harris+Conversation+KZXPGOt5BFCx.jpg\n",
            "Kamala Harris_7\n",
            "https://pyxis.nymag.com/v1/imgs/e56/65d/0ea07cfb4c77b9d2f11cc7a04c660ecb65-kamala-harris-debate.rsquare.w700.jpg\n",
            "Kamala Harris_8\n",
            "https://api.time.com/wp-content/uploads/2019/01/kamala-harris-colbert-presidential-run.jpg\n",
            "Kamala Harris_9\n",
            "https://msmagazine.com/wp-content/uploads/2019/01/kamala-harris.jpg\n"
          ]
        },
        {
          "data": {
            "text/plain": [
              "(19.991685152053833, [])"
            ]
          },
          "execution_count": 76,
          "metadata": {},
          "output_type": "execute_result"
        }
      ],
      "source": [
        "make_imgs(\"Kamala Harris\", 10, key1)"
      ]
    },
    {
      "cell_type": "markdown",
      "metadata": {},
      "source": [
        "### 2. function to make image-file lists for several keywords"
      ]
    },
    {
      "cell_type": "code",
      "execution_count": 77,
      "metadata": {
        "colab": {
          "base_uri": "https://localhost:8080/"
        },
        "id": "VftMTBPPlh5Y",
        "outputId": "46af9a21-652d-4f3f-b58a-d1baa26eea36"
      },
      "outputs": [],
      "source": [
        "# 쿼리를 요청할 검색어 리스트 만들거나 불러오기\n",
        "name_list = ['Ruth Bader Ginsburg', 'Elizabeth Warren', 'Nancy Pelosi']"
      ]
    },
    {
      "cell_type": "code",
      "execution_count": 78,
      "metadata": {
        "id": "Wvv3_-ib8ZQo"
      },
      "outputs": [],
      "source": [
        "def make_img_list(lst, num, apikey):\n",
        "  # 시작 시간 저장\n",
        "  start = time.time()\n",
        "  # 에러 로그 저장을 위한 리스트 만들기\n",
        "  error_log = []\n",
        "  # 주어진 리스트에 있는 모든 이름 검색\n",
        "  for item in lst:\n",
        "\n",
        "    # 폴더 만들고 경로 이동하기\n",
        "    os.chdir(base_path+\"/bing_img\") # your designated directory\n",
        "    createFolder(item)\n",
        "    os.chdir(f\"./{item}\")\n",
        "\n",
        "    url = \"https://api.bing.microsoft.com/v7.0/images/search\"\n",
        "    headers = {\n",
        "              \"Ocp-Apim-Subscription-Key\" : key1\n",
        "              }\n",
        "    param = {\"q\" : item,\n",
        "          \"count\" : num,\n",
        "          \"imageType\" : \"Photo\",\n",
        "          \"imageContent\" : \"Face\",\n",
        "          \"minHeight\" : 256,\n",
        "          \"safeSearch\" : \"strict\",\n",
        "          \"color\" : \"ColorOnly\"\n",
        "          }\n",
        "    s = r.Session()\n",
        "    test = s.get(url,headers=headers, params=param).json()\n",
        "    # 검색결과 링크에서 이미지 저장하기\n",
        "\n",
        "    for i in range(0,len(test.get(\"value\"))):\n",
        "        file_name = item+\"_\"+str(i)\n",
        "        print(file_name)\n",
        "        print(test.get('value')[i].get('contentUrl'))\n",
        "        json_file_name = f\"{file_name}.json\"\n",
        "        file_path = os.getcwd()+'/'+json_file_name\n",
        "        img_file_name = f\"{file_name}.{test.get('value')[i].get('encodingFormat')}\"\n",
        "        #print(img_file_name)\n",
        "        \n",
        "        #set headers to avoid 403 forbidden error\n",
        "        headers = {'User-Agent' : 'Mozilla/5.0 (Windows NT 10.0; Win64; x64) AppleWebKit/537.36 (KHTML, like Gecko)Chrome/91.0.4472.77 Safari/537.36'}\n",
        "        \n",
        "        img_r = r.get(test.get('value')[i].get('contentUrl'), headers=headers, timeout=10, stream=True)\n",
        "        with open (img_file_name,'wb') as f:\n",
        "            try:\n",
        "                  f.write(img_r.content)\n",
        "                  \n",
        "            except Exception as e:\n",
        "                  print(e)\n",
        "                  error_log.append(f\"{img_file_name}: {e} \")   \n",
        "                  pass       \n",
        "      \n",
        "            data = {}\n",
        "            data[file_name] = []\n",
        "            data[file_name].append({\n",
        "                  \"contentUrl\" : test.get('value')[i].get('contentUrl'),\n",
        "                  \"datePublished\" : test.get('value')[i].get('datePublished'),\n",
        "                  \"encodingFormat\" : test.get('value')[i].get('encodingFormat'),\n",
        "                  \"height\" : test.get('value')[i].get('height'),\n",
        "                  \"hostPageUrl\" : test.get('value')[i].get('hostPageUrl'),\n",
        "                  \"imageId\" : test.get('value')[i].get('imageId'),\n",
        "                  \"width\" : test.get('value')[i].get('width')\n",
        "            })\n",
        "            with open(file_path,'w') as outfile:\n",
        "                  json.dump(data,outfile)\n",
        "        \n",
        "    # get back to base_path\n",
        "    os.chdir(\"../..\")\n",
        "    \n",
        "  # measure performance time\n",
        "  time_taken = time.time()-start\n",
        "  return time_taken, error_log"
      ]
    },
    {
      "cell_type": "code",
      "execution_count": 79,
      "metadata": {
        "colab": {
          "base_uri": "https://localhost:8080/"
        },
        "id": "2AxHwiqj8yj5",
        "outputId": "e8238267-fd96-4252-d55a-5238b85208b1"
      },
      "outputs": [
        {
          "name": "stdout",
          "output_type": "stream",
          "text": [
            "Ruth Bader Ginsburg_0\n",
            "https://media.nbcbayarea.com/2019/09/ruth-bader-ginsburg-1.jpg?fit=1786%2C1727\n",
            "Ruth Bader Ginsburg_1\n",
            "http://wpitechnews.com/wp-content/uploads/2020/09/906px-Ruth_Bader_Ginsburg_2016_portrait_cropped.jpg\n",
            "Ruth Bader Ginsburg_2\n",
            "https://www.biography.com/.image/t_share/MTE5NTU2MzE2MjMwNTUxMDUx/ruth-bader-ginsburg-9312041-1-402.jpg\n",
            "Elizabeth Warren_0\n",
            "https://townsquare.media/site/918/files/2018/07/Elizabeth-Warren.jpg?w=1200\n",
            "Elizabeth Warren_1\n",
            "https://mediaproxy.salon.com/width/1200/https://media.salon.com/2013/08/elizabeth_warren8.jpg\n",
            "Elizabeth Warren_2\n",
            "https://starsinformer.com/wp-content/uploads/2017/08/Elizabeth-Warren-5.jpg\n",
            "Nancy Pelosi_0\n",
            "https://www.famousplasticsurgeries.com/wp-content/uploads/2020/12/Nancy-Pelosi-Botox-Nose-Job-Lips-Plastic-Surgery-Rumors-819x1024.jpg\n",
            "Nancy Pelosi_1\n",
            "https://www.theamericanmirror.com/wp-content/uploads/2019/12/Nancy-Pelosi-bandage-e1575992619662.jpg\n",
            "Nancy Pelosi_2\n",
            "https://www.the-sun.com/wp-content/uploads/sites/6/2020/04/NINTCHDBPICT000548718148.jpg\n"
          ]
        },
        {
          "data": {
            "text/plain": [
              "(14.829231023788452, [])"
            ]
          },
          "execution_count": 79,
          "metadata": {},
          "output_type": "execute_result"
        }
      ],
      "source": [
        "make_img_list(name_list, 3 ,key1)"
      ]
    },
    {
      "cell_type": "code",
      "execution_count": null,
      "metadata": {},
      "outputs": [],
      "source": []
    }
  ],
  "metadata": {
    "colab": {
      "collapsed_sections": [],
      "name": "bing_img_search_test.ipynb",
      "provenance": []
    },
    "kernelspec": {
      "display_name": "Python 3",
      "name": "python3"
    },
    "language_info": {
      "codemirror_mode": {
        "name": "ipython",
        "version": 3
      },
      "file_extension": ".py",
      "mimetype": "text/x-python",
      "name": "python",
      "nbconvert_exporter": "python",
      "pygments_lexer": "ipython3",
      "version": "3.8.5"
    }
  },
  "nbformat": 4,
  "nbformat_minor": 0
}
