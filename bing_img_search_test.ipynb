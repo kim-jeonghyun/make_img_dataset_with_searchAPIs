{
  "cells": [
    {
      "cell_type": "markdown",
      "metadata": {
        "id": "G9kMNtqz8vxy"
      },
      "source": [
        "## 1. urllib 활용"
      ]
    },
    {
      "cell_type": "code",
      "execution_count": 2,
      "metadata": {
        "id": "YRWcMwablErt"
      },
      "outputs": [],
      "source": [
        "import requests as r\n",
        "import urllib.request as ur\n",
        "import os\n",
        "import pandas as pd\n",
        "import time"
      ]
    },
    {
      "cell_type": "code",
      "execution_count": 3,
      "metadata": {
        "id": "Gtb05lJ-lKy0"
      },
      "outputs": [],
      "source": [
        "# 해당 디렉토리가 없으면 만드는 함수\n",
        "def createFolder(dir_name):\n",
        "    try:\n",
        "        if not os.path.exists(dir_name):\n",
        "            os.makedirs(dir_name)\n",
        "    except OSError:\n",
        "        print ('Error: Creating directory. ' +  dir_name)"
      ]
    },
    {
      "cell_type": "code",
      "execution_count": 7,
      "metadata": {
        "id": "CPP5ppjQ5sf1"
      },
      "outputs": [],
      "source": [
        "key1 = \"ed65304c3c8644c0a2c757e21ab5efca\" # Your bing API key"
      ]
    },
    {
      "cell_type": "markdown",
      "metadata": {},
      "source": [
        "### 1. function to make image-files for one keyword"
      ]
    },
    {
      "cell_type": "code",
      "execution_count": 8,
      "metadata": {},
      "outputs": [],
      "source": [
        "def make_imgs(item, apikey):\n",
        "    # 시작 시간 저장\n",
        "    start = time.time()\n",
        "    # 에러 로그 저장을 위한 리스트 만들기\n",
        "    error_log = []\n",
        "    \n",
        "    # 폴더 만들고 경로 이동하기\n",
        "    os.chdir(\"./bing_img\") # your designated directory\n",
        "    createFolder(item)\n",
        "    os.chdir(f\"./{item}\")\n",
        "    \n",
        "    url = \"https://api.bing.microsoft.com/v7.0/images/search\"\n",
        "    headers = {\n",
        "              \"Ocp-Apim-Subscription-Key\" : key1\n",
        "              }\n",
        "    \n",
        "    # you can manage many query parameters. check out the documentation\n",
        "    # https://docs.microsoft.com/en-us/bing/search-apis/bing-image-search/reference/query-parameters\n",
        "    \n",
        "    param = {\"q\" : item,\n",
        "          \"count\" : 10, #choose num of results from 1 to 150\n",
        "          \"imageType\" : \"Photo\",\n",
        "          \"imageContent\" : \"Face\",\n",
        "          \"minHeight\" : 256, # set minimum height(pixels)\n",
        "          \"safeSearch\" : \"strict\", # filter adult contents\n",
        "          \"color\" : \"ColorOnly\"\n",
        "          }\n",
        "    s = r.Session()\n",
        "    test = s.get(url,headers=headers, params=param).json()\n",
        "    \n",
        "    # 검색결과 링크에서 이미지 저장하기\n",
        "    for i in range(0,len(test.get(\"value\"))):\n",
        "        print(item,'-',i)\n",
        "        print(test.get('value')[i].get('contentUrl'))\n",
        "        file_name = f\"{item}_{i}.{test.get('value')[i].get('encodingFormat')}\"\n",
        "        try:\n",
        "          ur.urlretrieve(test.get('value')[i].get('contentUrl'),file_name)\n",
        "        except Exception as e: \n",
        "          print(e)\n",
        "          error_log.append(f\"{file_name}: {e}\")\n",
        "\n",
        "          pass\n",
        "    os.chdir(\"../..\")\n",
        "    time_taken = time.time()-start\n",
        "    return time_taken, error_log"
      ]
    },
    {
      "cell_type": "code",
      "execution_count": 9,
      "metadata": {},
      "outputs": [
        {
          "name": "stdout",
          "output_type": "stream",
          "text": [
            "Jimmy Fallon - 0\n",
            "http://content.wkyc.com/photo/2014/01/20/1390222629000-Jimmy-Fallon-Getty-Images_2916070_ver1.0.jpg\n",
            "Jimmy Fallon - 1\n",
            "https://www.cleveland.com/resizer/dHX6WHaRRtYQ14gXZypjtq2mOEI=/1280x0/smart/advancelocal-adapter-image-uploads.s3.amazonaws.com/image.cleveland.com/home/cleve-media/width2048/img/ent_impact_home/photo/jimmyfallonjpg-2cca1f111b1f77a9.jpg\n",
            "Jimmy Fallon - 2\n",
            "https://i0.gmx.ch/image/324/33631324,pd=1/jimmy-fallon.jpg\n",
            "Jimmy Fallon - 3\n",
            "https://www1.pictures.zimbio.com/gi/NBC+Universal+68th+Annual+Golden+Globes+After+sGiTShVJAnDx.jpg\n",
            "Jimmy Fallon - 4\n",
            "https://townsquare.media/site/252/files/2020/05/jimmy-fallon.jpg?w=1200&h=0&zc=1&s=0&a=t&q=89\n",
            "Jimmy Fallon - 5\n",
            "https://townsquare.media/site/623/files/2011/12/jimmy-fallon-200-111111.jpg?w=1200&h=0&zc=1&s=0&a=t&q=89\n",
            "Jimmy Fallon - 6\n",
            "https://brobible.com/wp-content/uploads/2020/05/GettyImages-1060576374.jpg\n",
            "Jimmy Fallon - 7\n",
            "https://americanupdate.com/wp-content/uploads/2020/05/Jimmy-Fallon.jpg\n",
            "HTTP Error 403: Forbidden\n",
            "Jimmy Fallon - 8\n",
            "https://images.complex.com/complex/image/upload/c_fill,g_center,w_1200/fl_lossy,pg_1,q_auto/fhglor09gfv8paouzmlw.jpg\n",
            "Jimmy Fallon - 9\n",
            "https://celebie.com/wp-content/uploads/2016/05/jimmy.jpg\n"
          ]
        },
        {
          "data": {
            "text/plain": [
              "(13.53794264793396, ['Jimmy Fallon_7.jpeg: HTTP Error 403: Forbidden'])"
            ]
          },
          "execution_count": 9,
          "metadata": {},
          "output_type": "execute_result"
        }
      ],
      "source": [
        "make_imgs(\"Jimmy Fallon\", key1)"
      ]
    },
    {
      "cell_type": "markdown",
      "metadata": {},
      "source": [
        "### 2. function to make image-file lists for several keywords"
      ]
    },
    {
      "cell_type": "code",
      "execution_count": 6,
      "metadata": {
        "colab": {
          "base_uri": "https://localhost:8080/"
        },
        "id": "VftMTBPPlh5Y",
        "outputId": "46af9a21-652d-4f3f-b58a-d1baa26eea36"
      },
      "outputs": [],
      "source": [
        "# 쿼리를 요청할 검색어 리스트 만들거나 불러오기\n",
        "name_list = ['Barak Obama','Donald Trump' ,'Joe Biden']"
      ]
    },
    {
      "cell_type": "code",
      "execution_count": 10,
      "metadata": {
        "id": "Wvv3_-ib8ZQo"
      },
      "outputs": [],
      "source": [
        "def make_img_list(lst, apikey):\n",
        "  # 시작 시간 저장\n",
        "  start = time.time()\n",
        "  # 에러 로그 저장을 위한 리스트 만들기\n",
        "  error_log = []\n",
        "  # 주어진 리스트에 있는 모든 이름 검색\n",
        "  for item in lst:\n",
        "\n",
        "    # 폴더 만들고 경로 이동하기\n",
        "    os.chdir(\"./bing_img\") # your designated directory\n",
        "    createFolder(item)\n",
        "    os.chdir(f\"./{item}\")\n",
        "\n",
        "    url = \"https://api.bing.microsoft.com/v7.0/images/search\"\n",
        "    headers = {\n",
        "              \"Ocp-Apim-Subscription-Key\" : key1\n",
        "              }\n",
        "    param = {\"q\" : item,\n",
        "          \"count\" : 10,\n",
        "          \"imageType\" : \"Photo\",\n",
        "          \"imageContent\" : \"Face\",\n",
        "          \"minHeight\" : 256,\n",
        "          \"safeSearch\" : \"strict\",\n",
        "          \"color\" : \"ColorOnly\"\n",
        "          }\n",
        "    s = r.Session()\n",
        "    test = s.get(url,headers=headers, params=param).json()\n",
        "    # 검색결과 링크에서 이미지 저장하기\n",
        "\n",
        "    for i in range(0,len(test.get(\"value\"))):\n",
        "        print(item,'-',i)\n",
        "        print(test.get('value')[i].get('contentUrl'))\n",
        "        file_name = f\"{item}_{i}.{test.get('value')[i].get('encodingFormat')}\"\n",
        "        try:\n",
        "          ur.urlretrieve(test.get('value')[i].get('contentUrl'),file_name)\n",
        "        except Exception as e: \n",
        "          print(e)\n",
        "          error_log.append(f\"{file_name}: {e}\")\n",
        "\n",
        "          pass\n",
        "    os.chdir(\"../..\")\n",
        "  time_taken = time.time()-start\n",
        "  return time_taken, error_log"
      ]
    },
    {
      "cell_type": "code",
      "execution_count": 11,
      "metadata": {
        "colab": {
          "base_uri": "https://localhost:8080/"
        },
        "id": "2AxHwiqj8yj5",
        "outputId": "e8238267-fd96-4252-d55a-5238b85208b1"
      },
      "outputs": [
        {
          "name": "stdout",
          "output_type": "stream",
          "text": [
            "Barak Obama - 0\n",
            "https://issuepedia.org/wikiup/thumb/f/f8/Officialportrait.jpg/1200px-Officialportrait.jpg\n",
            "Barak Obama - 1\n",
            "https://images-na.ssl-images-amazon.com/images/I/B1iW0a3boMS.jpg\n",
            "Barak Obama - 2\n",
            "https://i0.web.de/image/374/33558374,pd=1/barack-obama.jpg\n",
            "Barak Obama - 3\n",
            "http://fotomods.ru/upload/img1349524929.jpg\n",
            "HTTP Error 403: Forbidden\n",
            "Barak Obama - 4\n",
            "http://whatwillmatter.com/wp-content/uploads/2012/10/Barak-Obama.jpg\n",
            "Barak Obama - 5\n",
            "https://www.espreso.co.rs/data/images/2020/07/17/18/790599_barak-obama_ls.jpg\n",
            "Barak Obama - 6\n",
            "https://media.vanityfair.com/photos/5eb6e24a77a607fc7f7f1572/master/w_2560%2Cc_limit/Barack-Obama.jpg\n",
            "Barak Obama - 7\n",
            "http://abovethelaw.com/wp-content/uploads/2015/04/barack-obama.jpg\n",
            "HTTP Error 403: Forbidden\n",
            "Barak Obama - 8\n",
            "https://i0.wp.com/breakingwide.com/wp-content/uploads/2019/11/PhotoGrid_1574718654326.jpg?fit=1820%2C1024&ssl=1\n",
            "Barak Obama - 9\n",
            "https://www.famousbirthsdeaths.com/wp-content/uploads/2015/12/is-barack-obama-dead-or-alive.jpg\n",
            "HTTP Error 403: Forbidden\n",
            "Donald Trump - 0\n",
            "http://presencianoticias.com/wp-content/uploads/2018/05/trump-fail-004.jpg\n",
            "HTTP Error 403: Forbidden\n",
            "Donald Trump - 1\n",
            "https://celebrityinsider.org/wp-content/uploads/2020/05/d-trump.jpg\n",
            "HTTP Error 403: Forbidden\n",
            "Donald Trump - 2\n",
            "https://bilder.t-online.de/b/88/58/12/10/id_88581210/tid_da/donald-trump-der-us-praesident-ueberrascht-haeufig-mit-wissenschaftlich-nicht-belegten-ueberzeugungen-.jpg\n",
            "Donald Trump - 3\n",
            "http://www.infoescola.com/wp-content/uploads/2016/05/donald-trump_308374256.jpg\n",
            "HTTP Error 403: Forbidden\n",
            "Donald Trump - 4\n",
            "https://movieplayer.net-cdn.it/images/2020/10/21/unfit-donald-trump.jpg\n",
            "Donald Trump - 5\n",
            "https://assets.debate.com.mx/__export/1605665553099/sites/debate/img/2020/11/17/donald_trump_despide_a_funcionario_federal_por_no_apoyarlo_crop1605665292869.jpeg_242310155.jpeg\n",
            "Donald Trump - 6\n",
            "http://www.middleeasteye.net/sites/default/files/images-story/000_1qk858_0.jpg\n",
            "HTTP Error 403: Forbidden\n",
            "Donald Trump - 7\n",
            "https://wallsdesk.com/wp-content/uploads/2017/01/Donald-Trump-Wallpapers.jpg\n"
          ]
        }
      ],
      "source": [
        "make_img_list(name_list, key1)"
      ]
    },
    {
      "cell_type": "code",
      "execution_count": null,
      "metadata": {},
      "outputs": [],
      "source": []
    }
  ],
  "metadata": {
    "colab": {
      "collapsed_sections": [],
      "name": "bing_img_search_test.ipynb",
      "provenance": []
    },
    "kernelspec": {
      "display_name": "Python 3",
      "name": "python3"
    },
    "language_info": {
      "codemirror_mode": {
        "name": "ipython",
        "version": 3
      },
      "file_extension": ".py",
      "mimetype": "text/x-python",
      "name": "python",
      "nbconvert_exporter": "python",
      "pygments_lexer": "ipython3",
      "version": "3.8.5"
    }
  },
  "nbformat": 4,
  "nbformat_minor": 0
}
