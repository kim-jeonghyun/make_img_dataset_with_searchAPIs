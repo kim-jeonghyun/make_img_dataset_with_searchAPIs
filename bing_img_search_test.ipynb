{
  "cells": [
    {
      "cell_type": "markdown",
      "metadata": {
        "id": "G9kMNtqz8vxy"
      },
      "source": [
        "## 1. urllib 활용"
      ]
    },
    {
      "cell_type": "code",
      "execution_count": 27,
      "metadata": {
        "id": "YRWcMwablErt"
      },
      "outputs": [],
      "source": [
        "import requests as r\n",
        "import urllib.request as ur\n",
        "import os\n",
        "import pandas as pd\n",
        "import time\n",
        "import json\n",
        "import socket"
      ]
    },
    {
      "cell_type": "code",
      "execution_count": 28,
      "metadata": {
        "id": "Gtb05lJ-lKy0"
      },
      "outputs": [],
      "source": [
        "# 해당 디렉토리가 없으면 만드는 함수\n",
        "def createFolder(dir_name):\n",
        "    try:\n",
        "        if not os.path.exists(dir_name):\n",
        "            os.makedirs(dir_name)\n",
        "    except OSError:\n",
        "        print ('Error: Creating directory. ' +  dir_name)"
      ]
    },
    {
      "cell_type": "code",
      "execution_count": 36,
      "metadata": {
        "id": "CPP5ppjQ5sf1"
      },
      "outputs": [],
      "source": [
        "key1 = \"\" # Your bing API key"
      ]
    },
    {
      "cell_type": "code",
      "execution_count": 37,
      "metadata": {},
      "outputs": [],
      "source": [
        "#set your path\n",
        "base_path = \"\" # Your base_path\n",
        "os.chdir(base_path)"
      ]
    },
    {
      "cell_type": "markdown",
      "metadata": {},
      "source": [
        "### 1. function to make image-files for one keyword"
      ]
    },
    {
      "cell_type": "code",
      "execution_count": 43,
      "metadata": {},
      "outputs": [],
      "source": [
        "def make_imgs(item, num, apikey):\n",
        "    # save start time to measure performance time\n",
        "    start = time.time()\n",
        "    # make a list to save error log\n",
        "    error_log = []\n",
        "    \n",
        "    # set the directory\n",
        "    os.chdir(\"./bing_img\") # your designated directory\n",
        "    createFolder(item)\n",
        "    os.chdir(f\"./{item}\")\n",
        "    \n",
        "    url = \"https://api.bing.microsoft.com/v7.0/images/search\"\n",
        "    headers = {\n",
        "              \"Ocp-Apim-Subscription-Key\" : key1\n",
        "              }\n",
        "    \n",
        "    # you can manage many query parameters. check out the documentation\n",
        "    # https://docs.microsoft.com/en-us/bing/search-apis/bing-image-search/reference/query-parameters\n",
        "    \n",
        "    param = {\"q\" : item,\n",
        "          \"count\" : num, #choose num of results from 1 to 150\n",
        "          \"imageType\" : \"Photo\",\n",
        "          \"imageContent\" : \"Face\",\n",
        "          \"minHeight\" : 256, # set minimum height(pixels)\n",
        "          \"safeSearch\" : \"strict\", # filter adult contents\n",
        "          \"color\" : \"ColorOnly\"\n",
        "          }\n",
        "    s = r.Session()\n",
        "    test = s.get(url,headers=headers, params=param).json()\n",
        "    \n",
        "    # download images and labels using link result\n",
        "    for i in range(0,len(test.get(\"value\"))):\n",
        "          file_name = item+\"_\"+str(i)\n",
        "          print(file_name)\n",
        "          print(test.get('value')[i].get('contentUrl'))\n",
        "          json_file_name = f\"{file_name}.json\"\n",
        "          file_path = os.getcwd()+'/'+json_file_name\n",
        "          img_file_name = f\"{file_name}.{test.get('value')[i].get('encodingFormat')}\"\n",
        "          #print(img_file_name)\n",
        "          \n",
        "          socket.setdefaulttimeout(3)\n",
        "          \n",
        "          try:\n",
        "                ur.urlretrieve(test.get('value')[i].get('contentUrl'),img_file_name)\n",
        "                data = {}\n",
        "                data[file_name] = []\n",
        "                data[file_name].append({\n",
        "                      \"contentUrl\" : test.get('value')[i].get('contentUrl'),\n",
        "                      \"datePublished\" : test.get('value')[i].get('datePublished'),\n",
        "                      \"encodingFormat\" : test.get('value')[i].get('encodingFormat'),\n",
        "                      \"height\" : test.get('value')[i].get('height'),\n",
        "                      \"hostPageUrl\" : test.get('value')[i].get('hostPageUrl'),\n",
        "                      \"imageId\" : test.get('value')[i].get('imageId'),\n",
        "                      \"width\" : test.get('value')[i].get('width')\n",
        "                })\n",
        "                with open(file_path,'w') as outfile:\n",
        "                      json.dump(data,outfile)\n",
        "          except Exception as e:\n",
        "                print(e)\n",
        "                error_log.append(f\"{img_file_name}: {e} \")\n",
        "\n",
        "        \n",
        "    # get back to the original path\n",
        "    os.chdir(\"../..\")\n",
        "    time_taken = time.time()-start\n",
        "    return time_taken, error_log"
      ]
    },
    {
      "cell_type": "code",
      "execution_count": 44,
      "metadata": {},
      "outputs": [
        {
          "name": "stdout",
          "output_type": "stream",
          "text": [
            "Joe Biden_0\n",
            "https://dehayf5mhw1h7.cloudfront.net/wp-content/uploads/sites/1317/2020/08/04142449/GettyImages-1227830570.jpg\n",
            "Joe Biden_1\n",
            "https://newjerseyglobe.com/wp-content/uploads/2018/03/Joe-Biden-e1521136567698.jpg\n",
            "HTTP Error 403: Forbidden\n",
            "Joe Biden_2\n",
            "https://api.time.com/wp-content/uploads/2019/09/joe-biden-ukraine-fundraising.jpg\n",
            "Joe Biden_3\n",
            "https://thingstoknow.com.ng/wp-content/uploads/2021/01/Joe-Biden-4-1024x682.jpg\n",
            "Joe Biden_4\n",
            "https://i1.wp.com/nypost.com/wp-content/uploads/sites/2/2020/06/joe-biden-basement.jpg?quality=90&strip=all&ssl=1\n",
            "Joe Biden_5\n",
            "https://upload.wikimedia.org/wikipedia/commons/0/0d/Joe_Biden,_official_photo_portrait_2-cropped.jpg\n",
            "Joe Biden_6\n",
            "https://s3.amazonaws.com/zweb-s3.uploads/ez2/wp-content/uploads/2020/08/GettyImages-1267430926_Fotor.jpg\n",
            "Joe Biden_7\n",
            "https://americarisingpac.org/wp-content/uploads/2019/06/Biden03-GettyImages-1149412192-e1560361192371.jpg\n",
            "Joe Biden_8\n",
            "https://www.welt.de/img/debatte/kommentare/mobile208189875/3552506897-ci102l-w1024/Biden-gewinnt-US-Vorwahl-in-Oregon-laut-vorlaeufigen-Zahlen.jpg\n",
            "Joe Biden_9\n",
            "http://img.timeinc.net/time/2012/poypoll/biden.jpg\n"
          ]
        },
        {
          "data": {
            "text/plain": [
              "(10.504884243011475, ['Joe Biden_1.jpeg: HTTP Error 403: Forbidden '])"
            ]
          },
          "execution_count": 44,
          "metadata": {},
          "output_type": "execute_result"
        }
      ],
      "source": [
        "make_imgs(\"Joe Biden\", 10, key1)"
      ]
    },
    {
      "cell_type": "markdown",
      "metadata": {},
      "source": [
        "### 2. function to make image-file lists for several keywords"
      ]
    },
    {
      "cell_type": "code",
      "execution_count": 45,
      "metadata": {
        "colab": {
          "base_uri": "https://localhost:8080/"
        },
        "id": "VftMTBPPlh5Y",
        "outputId": "46af9a21-652d-4f3f-b58a-d1baa26eea36"
      },
      "outputs": [],
      "source": [
        "# 쿼리를 요청할 검색어 리스트 만들거나 불러오기\n",
        "name_list = ['Barak Obama','Donald Trump','Joe Biden']"
      ]
    },
    {
      "cell_type": "code",
      "execution_count": 46,
      "metadata": {
        "id": "Wvv3_-ib8ZQo"
      },
      "outputs": [],
      "source": [
        "def make_img_list(lst, num, apikey):\n",
        "  # 시작 시간 저장\n",
        "  start = time.time()\n",
        "  # 에러 로그 저장을 위한 리스트 만들기\n",
        "  error_log = []\n",
        "  # 주어진 리스트에 있는 모든 이름 검색\n",
        "  for item in lst:\n",
        "\n",
        "    # 폴더 만들고 경로 이동하기\n",
        "    os.chdir(base_path+\"/bing_img\") # your designated directory\n",
        "    createFolder(item)\n",
        "    os.chdir(f\"./{item}\")\n",
        "\n",
        "    url = \"https://api.bing.microsoft.com/v7.0/images/search\"\n",
        "    headers = {\n",
        "              \"Ocp-Apim-Subscription-Key\" : key1\n",
        "              }\n",
        "    param = {\"q\" : item,\n",
        "          \"count\" : num,\n",
        "          \"imageType\" : \"Photo\",\n",
        "          \"imageContent\" : \"Face\",\n",
        "          \"minHeight\" : 256,\n",
        "          \"safeSearch\" : \"strict\",\n",
        "          \"color\" : \"ColorOnly\"\n",
        "          }\n",
        "    s = r.Session()\n",
        "    test = s.get(url,headers=headers, params=param).json()\n",
        "    # 검색결과 링크에서 이미지 저장하기\n",
        "\n",
        "    for i in range(0,len(test.get(\"value\"))):\n",
        "        file_name = item+\"_\"+str(i)\n",
        "        print(file_name)\n",
        "        print(test.get('value')[i].get('contentUrl'))\n",
        "        json_file_name = f\"{file_name}.json\"\n",
        "        file_path = os.getcwd()+'/'+json_file_name\n",
        "        img_file_name = f\"{file_name}.{test.get('value')[i].get('encodingFormat')}\"\n",
        "        #print(img_file_name)\n",
        "        \n",
        "        socket.setdefaulttimeout(3)\n",
        "\n",
        "        \n",
        "        try:\n",
        "          ur.urlretrieve(test.get('value')[i].get('contentUrl'),img_file_name)\n",
        "          data = {}\n",
        "          data[file_name] = []\n",
        "          data[file_name].append({\n",
        "                \"contentUrl\" : test.get('value')[i].get('contentUrl'),\n",
        "                \"datePublished\" : test.get('value')[i].get('datePublished'),\n",
        "                \"encodingFormat\" : test.get('value')[i].get('encodingFormat'),\n",
        "                \"height\" : test.get('value')[i].get('height'),\n",
        "                \"hostPageUrl\" : test.get('value')[i].get('hostPageUrl'),\n",
        "                \"imageId\" : test.get('value')[i].get('imageId'),\n",
        "                \"width\" : test.get('value')[i].get('width')\n",
        "                })\n",
        "          with open(file_path,'w') as outfile:\n",
        "            json.dump(data,outfile)\n",
        "        except Exception as e: \n",
        "          print(e)\n",
        "          error_log.append(f\"{file_name}: {e}\")\n",
        "          pass\n",
        "        \n",
        "    # get back to base_path\n",
        "    os.chdir(\"../..\")\n",
        "    \n",
        "  # measure performance time\n",
        "  time_taken = time.time()-start\n",
        "  return time_taken, error_log"
      ]
    },
    {
      "cell_type": "code",
      "execution_count": 47,
      "metadata": {
        "colab": {
          "base_uri": "https://localhost:8080/"
        },
        "id": "2AxHwiqj8yj5",
        "outputId": "e8238267-fd96-4252-d55a-5238b85208b1"
      },
      "outputs": [
        {
          "name": "stdout",
          "output_type": "stream",
          "text": [
            "Barak Obama_0\n",
            "https://issuepedia.org/wikiup/thumb/f/f8/Officialportrait.jpg/1200px-Officialportrait.jpg\n",
            "Barak Obama_1\n",
            "https://images-na.ssl-images-amazon.com/images/I/B1iW0a3boMS.jpg\n",
            "Barak Obama_2\n",
            "https://i0.web.de/image/374/33558374,pd=1/barack-obama.jpg\n",
            "Donald Trump_0\n",
            "http://presencianoticias.com/wp-content/uploads/2018/05/trump-fail-004.jpg\n",
            "HTTP Error 403: Forbidden\n",
            "Donald Trump_1\n",
            "https://celebrityinsider.org/wp-content/uploads/2020/05/d-trump.jpg\n",
            "HTTP Error 403: Forbidden\n",
            "Donald Trump_2\n",
            "http://www.infoescola.com/wp-content/uploads/2016/05/donald-trump_308374256.jpg\n",
            "HTTP Error 403: Forbidden\n",
            "Joe Biden_0\n",
            "https://arc-anglerfish-arc2-prod-bostonglobe.s3.amazonaws.com/public/FNYETSMRXNDK3IN6E2LVAHJAOQ.JPG\n",
            "Joe Biden_1\n",
            "http://tu18jax.com/wp-content/uploads/2020/11/Joe_Biden-scaled.jpg\n",
            "Joe Biden_2\n",
            "https://veja.abril.com.br/wp-content/uploads/2019/09/biden-eua-getty.jpg\n"
          ]
        },
        {
          "data": {
            "text/plain": [
              "(31.42984414100647,\n",
              " ['Donald Trump_0: HTTP Error 403: Forbidden',\n",
              "  'Donald Trump_1: HTTP Error 403: Forbidden',\n",
              "  'Donald Trump_2: HTTP Error 403: Forbidden'])"
            ]
          },
          "execution_count": 47,
          "metadata": {},
          "output_type": "execute_result"
        }
      ],
      "source": [
        "make_img_list(name_list, 3 ,key1)"
      ]
    },
    {
      "cell_type": "code",
      "execution_count": null,
      "metadata": {},
      "outputs": [],
      "source": []
    }
  ],
  "metadata": {
    "colab": {
      "collapsed_sections": [],
      "name": "bing_img_search_test.ipynb",
      "provenance": []
    },
    "kernelspec": {
      "display_name": "Python 3",
      "name": "python3"
    },
    "language_info": {
      "codemirror_mode": {
        "name": "ipython",
        "version": 3
      },
      "file_extension": ".py",
      "mimetype": "text/x-python",
      "name": "python",
      "nbconvert_exporter": "python",
      "pygments_lexer": "ipython3",
      "version": "3.8.5"
    }
  },
  "nbformat": 4,
  "nbformat_minor": 0
}
